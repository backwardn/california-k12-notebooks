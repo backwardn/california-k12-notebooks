{
 "cells": [
  {
   "cell_type": "markdown",
   "metadata": {},
   "source": [
    "# Transform\n",
    "\n",
    "Clean up the raw data from the state."
   ]
  },
  {
   "cell_type": "code",
   "execution_count": 46,
   "metadata": {},
   "outputs": [],
   "source": [
    "import os\n",
    "import warnings\n",
    "import pandas as pd"
   ]
  },
  {
   "cell_type": "code",
   "execution_count": 47,
   "metadata": {},
   "outputs": [],
   "source": [
    "warnings.simplefilter(\"ignore\")"
   ]
  },
  {
   "cell_type": "code",
   "execution_count": 48,
   "metadata": {},
   "outputs": [],
   "source": [
    "input_dir = os.path.join(os.getcwd(), \"input\")"
   ]
  },
  {
   "cell_type": "code",
   "execution_count": 49,
   "metadata": {},
   "outputs": [],
   "source": [
    "output_dir = os.path.join(os.getcwd(), \"output\")"
   ]
  },
  {
   "cell_type": "code",
   "execution_count": 50,
   "metadata": {},
   "outputs": [
    {
     "data": {
      "text/plain": [
       "True"
      ]
     },
     "execution_count": 50,
     "metadata": {},
     "output_type": "execute_result"
    }
   ],
   "source": [
    "os.path.exists(output_dir) or os.mkdir(output_dir)"
   ]
  },
  {
   "cell_type": "markdown",
   "metadata": {},
   "source": [
    "Read in the school roster"
   ]
  },
  {
   "cell_type": "code",
   "execution_count": 51,
   "metadata": {},
   "outputs": [],
   "source": [
    "roster_df = pd.read_csv(\n",
    "    os.path.join(input_dir, \"pubschls.txt\"),\n",
    "    dtype={\"CDSCode\": str},\n",
    "    delimiter=\"\\t\",\n",
    "    encoding=\"latin-1\"\n",
    ")"
   ]
  },
  {
   "cell_type": "code",
   "execution_count": 52,
   "metadata": {},
   "outputs": [
    {
     "data": {
      "text/plain": [
       "17816"
      ]
     },
     "execution_count": 52,
     "metadata": {},
     "output_type": "execute_result"
    }
   ],
   "source": [
    "len(roster_df)"
   ]
  },
  {
   "cell_type": "markdown",
   "metadata": {},
   "source": [
    "Drop non-schools"
   ]
  },
  {
   "cell_type": "code",
   "execution_count": 53,
   "metadata": {},
   "outputs": [],
   "source": [
    "schools_df = roster_df[~(roster_df.School.isnull())]"
   ]
  },
  {
   "cell_type": "code",
   "execution_count": 54,
   "metadata": {},
   "outputs": [
    {
     "data": {
      "text/plain": [
       "16442"
      ]
     },
     "execution_count": 54,
     "metadata": {},
     "output_type": "execute_result"
    }
   ],
   "source": [
    "len(schools_df)"
   ]
  },
  {
   "cell_type": "markdown",
   "metadata": {},
   "source": [
    "Filter it down to active schools"
   ]
  },
  {
   "cell_type": "code",
   "execution_count": 55,
   "metadata": {},
   "outputs": [],
   "source": [
    "active_df = schools_df[schools_df['StatusType'] == 'Active']"
   ]
  },
  {
   "cell_type": "code",
   "execution_count": 56,
   "metadata": {},
   "outputs": [
    {
     "data": {
      "text/plain": [
       "10611"
      ]
     },
     "execution_count": 56,
     "metadata": {},
     "output_type": "execute_result"
    }
   ],
   "source": [
    "len(active_df)"
   ]
  },
  {
   "cell_type": "code",
   "execution_count": 57,
   "metadata": {},
   "outputs": [],
   "source": [
    "trimmed_df = active_df[[\n",
    "    'CDSCode',\n",
    "    'School',\n",
    "    'District',\n",
    "    'StreetAbr',\n",
    "    'City',\n",
    "    'County',\n",
    "    'Zip',\n",
    "    'Charter',\n",
    "    'FundingType',\n",
    "    'Latitude',\n",
    "    'Longitude',\n",
    "    'SOCType',\n",
    "    'EILCode',\n",
    "    'GSserved',\n",
    "]]"
   ]
  },
  {
   "cell_type": "markdown",
   "metadata": {},
   "source": [
    "Split grades"
   ]
  },
  {
   "cell_type": "code",
   "execution_count": 58,
   "metadata": {},
   "outputs": [],
   "source": [
    "trimmed_df['low_grade_served'] = trimmed_df.GSserved.str.split('-').str.get(0)"
   ]
  },
  {
   "cell_type": "code",
   "execution_count": 59,
   "metadata": {},
   "outputs": [],
   "source": [
    "trimmed_df['high_grade_served'] = trimmed_df.GSserved.str.split('-').str.get(1)"
   ]
  },
  {
   "cell_type": "markdown",
   "metadata": {},
   "source": [
    "Clean up header names"
   ]
  },
  {
   "cell_type": "code",
   "execution_count": 62,
   "metadata": {},
   "outputs": [],
   "source": [
    "cleaned_df = trimmed_df.rename(columns={\n",
    "    'CDSCode': \"cds_code\",\n",
    "    'School': \"name\",\n",
    "    'District': \"district\",\n",
    "    'StreetAbr': \"street\",\n",
    "    'City': \"city\",\n",
    "    'County': \"county\",\n",
    "    'Zip': \"zipcode\",\n",
    "    'Charter': \"is_charter\",\n",
    "    'FundingType': \"funding_type\",\n",
    "    'Latitude': \"latitude\",\n",
    "    'Longitude': \"longitude\",\n",
    "    'SOCType': \"ownership\",\n",
    "    'EILCode': \"instructional_level\",\n",
    "    'GSserved': \"grades_served\",\n",
    "})"
   ]
  },
  {
   "cell_type": "code",
   "execution_count": 63,
   "metadata": {},
   "outputs": [
    {
     "data": {
      "text/html": [
       "<div>\n",
       "<style scoped>\n",
       "    .dataframe tbody tr th:only-of-type {\n",
       "        vertical-align: middle;\n",
       "    }\n",
       "\n",
       "    .dataframe tbody tr th {\n",
       "        vertical-align: top;\n",
       "    }\n",
       "\n",
       "    .dataframe thead th {\n",
       "        text-align: right;\n",
       "    }\n",
       "</style>\n",
       "<table border=\"1\" class=\"dataframe\">\n",
       "  <thead>\n",
       "    <tr style=\"text-align: right;\">\n",
       "      <th></th>\n",
       "      <th>cds_code</th>\n",
       "      <th>name</th>\n",
       "      <th>district</th>\n",
       "      <th>street</th>\n",
       "      <th>city</th>\n",
       "      <th>county</th>\n",
       "      <th>zipcode</th>\n",
       "      <th>is_charter</th>\n",
       "      <th>funding_type</th>\n",
       "      <th>latitude</th>\n",
       "      <th>longitude</th>\n",
       "      <th>ownership</th>\n",
       "      <th>instructional_level</th>\n",
       "      <th>grades_served</th>\n",
       "      <th>low_grade_served</th>\n",
       "      <th>high_grade_served</th>\n",
       "    </tr>\n",
       "  </thead>\n",
       "  <tbody>\n",
       "    <tr>\n",
       "      <th>2</th>\n",
       "      <td>01100170112607</td>\n",
       "      <td>Envision Academy for Arts &amp; Technology</td>\n",
       "      <td>Alameda County Office of Education</td>\n",
       "      <td>1515 Webster St.</td>\n",
       "      <td>Oakland</td>\n",
       "      <td>Alameda</td>\n",
       "      <td>94612-3355</td>\n",
       "      <td>Y</td>\n",
       "      <td>Directly funded</td>\n",
       "      <td>37.804520</td>\n",
       "      <td>-122.26815</td>\n",
       "      <td>High Schools (Public)</td>\n",
       "      <td>HS</td>\n",
       "      <td>9-12</td>\n",
       "      <td>9</td>\n",
       "      <td>12</td>\n",
       "    </tr>\n",
       "    <tr>\n",
       "      <th>4</th>\n",
       "      <td>01100170123968</td>\n",
       "      <td>Community School for Creative Education</td>\n",
       "      <td>Alameda County Office of Education</td>\n",
       "      <td>2111 International Blvd.</td>\n",
       "      <td>Oakland</td>\n",
       "      <td>Alameda</td>\n",
       "      <td>94606-4903</td>\n",
       "      <td>Y</td>\n",
       "      <td>Directly funded</td>\n",
       "      <td>37.784648</td>\n",
       "      <td>-122.23863</td>\n",
       "      <td>Elementary Schools (Public)</td>\n",
       "      <td>ELEM</td>\n",
       "      <td>K-8</td>\n",
       "      <td>K</td>\n",
       "      <td>8</td>\n",
       "    </tr>\n",
       "    <tr>\n",
       "      <th>5</th>\n",
       "      <td>01100170124172</td>\n",
       "      <td>Yu Ming Charter</td>\n",
       "      <td>Alameda County Office of Education</td>\n",
       "      <td>1086 Alcatraz Ave.</td>\n",
       "      <td>Oakland</td>\n",
       "      <td>Alameda</td>\n",
       "      <td>94608-1265</td>\n",
       "      <td>Y</td>\n",
       "      <td>Directly funded</td>\n",
       "      <td>37.847375</td>\n",
       "      <td>-122.28356</td>\n",
       "      <td>Elementary Schools (Public)</td>\n",
       "      <td>ELEM</td>\n",
       "      <td>K-6</td>\n",
       "      <td>K</td>\n",
       "      <td>6</td>\n",
       "    </tr>\n",
       "    <tr>\n",
       "      <th>6</th>\n",
       "      <td>01100170125567</td>\n",
       "      <td>Urban Montessori Charter</td>\n",
       "      <td>Alameda County Office of Education</td>\n",
       "      <td>5328 Brann St.</td>\n",
       "      <td>Oakland</td>\n",
       "      <td>Alameda</td>\n",
       "      <td>94619-3312</td>\n",
       "      <td>Y</td>\n",
       "      <td>Directly funded</td>\n",
       "      <td>37.778352</td>\n",
       "      <td>-122.18950</td>\n",
       "      <td>Elementary Schools (Public)</td>\n",
       "      <td>ELEM</td>\n",
       "      <td>K-6</td>\n",
       "      <td>K</td>\n",
       "      <td>6</td>\n",
       "    </tr>\n",
       "    <tr>\n",
       "      <th>8</th>\n",
       "      <td>01100170130401</td>\n",
       "      <td>Alameda County Juvenile Hall/Court</td>\n",
       "      <td>Alameda County Office of Education</td>\n",
       "      <td>2500 Fairmont Ave.</td>\n",
       "      <td>San Leandro</td>\n",
       "      <td>Alameda</td>\n",
       "      <td>94578-1005</td>\n",
       "      <td>N</td>\n",
       "      <td>NaN</td>\n",
       "      <td>37.712878</td>\n",
       "      <td>-122.11173</td>\n",
       "      <td>Juvenile Court Schools</td>\n",
       "      <td>HS</td>\n",
       "      <td>8-12</td>\n",
       "      <td>8</td>\n",
       "      <td>12</td>\n",
       "    </tr>\n",
       "  </tbody>\n",
       "</table>\n",
       "</div>"
      ],
      "text/plain": [
       "         cds_code                                     name  \\\n",
       "2  01100170112607   Envision Academy for Arts & Technology   \n",
       "4  01100170123968  Community School for Creative Education   \n",
       "5  01100170124172                          Yu Ming Charter   \n",
       "6  01100170125567                 Urban Montessori Charter   \n",
       "8  01100170130401       Alameda County Juvenile Hall/Court   \n",
       "\n",
       "                             district                    street         city  \\\n",
       "2  Alameda County Office of Education          1515 Webster St.      Oakland   \n",
       "4  Alameda County Office of Education  2111 International Blvd.      Oakland   \n",
       "5  Alameda County Office of Education        1086 Alcatraz Ave.      Oakland   \n",
       "6  Alameda County Office of Education            5328 Brann St.      Oakland   \n",
       "8  Alameda County Office of Education        2500 Fairmont Ave.  San Leandro   \n",
       "\n",
       "    county     zipcode is_charter     funding_type   latitude  longitude  \\\n",
       "2  Alameda  94612-3355          Y  Directly funded  37.804520 -122.26815   \n",
       "4  Alameda  94606-4903          Y  Directly funded  37.784648 -122.23863   \n",
       "5  Alameda  94608-1265          Y  Directly funded  37.847375 -122.28356   \n",
       "6  Alameda  94619-3312          Y  Directly funded  37.778352 -122.18950   \n",
       "8  Alameda  94578-1005          N              NaN  37.712878 -122.11173   \n",
       "\n",
       "                     ownership instructional_level grades_served  \\\n",
       "2        High Schools (Public)                  HS          9-12   \n",
       "4  Elementary Schools (Public)                ELEM           K-8   \n",
       "5  Elementary Schools (Public)                ELEM           K-6   \n",
       "6  Elementary Schools (Public)                ELEM           K-6   \n",
       "8       Juvenile Court Schools                  HS          8-12   \n",
       "\n",
       "  low_grade_served high_grade_served  \n",
       "2                9                12  \n",
       "4                K                 8  \n",
       "5                K                 6  \n",
       "6                K                 6  \n",
       "8                8                12  "
      ]
     },
     "execution_count": 63,
     "metadata": {},
     "output_type": "execute_result"
    }
   ],
   "source": [
    "cleaned_df.head()"
   ]
  },
  {
   "cell_type": "code",
   "execution_count": 64,
   "metadata": {},
   "outputs": [],
   "source": [
    "cleaned_df.to_csv(\n",
    "    os.path.join(output_dir, \"public_schools.csv\"),\n",
    "    encoding=\"utf-8\",\n",
    "    index=False\n",
    ")"
   ]
  }
 ],
 "metadata": {
  "kernelspec": {
   "display_name": "Python 3",
   "language": "python",
   "name": "python3"
  },
  "language_info": {
   "codemirror_mode": {
    "name": "ipython",
    "version": 3
   },
   "file_extension": ".py",
   "mimetype": "text/x-python",
   "name": "python",
   "nbconvert_exporter": "python",
   "pygments_lexer": "ipython3",
   "version": "3.6.4"
  }
 },
 "nbformat": 4,
 "nbformat_minor": 2
}
