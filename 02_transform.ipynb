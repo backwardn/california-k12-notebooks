{
 "cells": [
  {
   "cell_type": "markdown",
   "metadata": {},
   "source": [
    "# Transform\n",
    "\n",
    "Clean up the raw data from the state."
   ]
  },
  {
   "cell_type": "code",
   "execution_count": 85,
   "metadata": {},
   "outputs": [],
   "source": [
    "import os\n",
    "import warnings\n",
    "import geopandas as gpd\n",
    "from shapely.geometry import Point"
   ]
  },
  {
   "cell_type": "code",
   "execution_count": 69,
   "metadata": {},
   "outputs": [],
   "source": [
    "warnings.simplefilter(\"ignore\")"
   ]
  },
  {
   "cell_type": "code",
   "execution_count": 70,
   "metadata": {},
   "outputs": [],
   "source": [
    "input_dir = os.path.join(os.getcwd(), \"input\")"
   ]
  },
  {
   "cell_type": "code",
   "execution_count": 71,
   "metadata": {},
   "outputs": [],
   "source": [
    "output_dir = os.path.join(os.getcwd(), \"output\")"
   ]
  },
  {
   "cell_type": "code",
   "execution_count": 72,
   "metadata": {},
   "outputs": [
    {
     "data": {
      "text/plain": [
       "True"
      ]
     },
     "execution_count": 72,
     "metadata": {},
     "output_type": "execute_result"
    }
   ],
   "source": [
    "os.path.exists(output_dir) or os.mkdir(output_dir)"
   ]
  },
  {
   "cell_type": "markdown",
   "metadata": {},
   "source": [
    "Read in the school roster"
   ]
  },
  {
   "cell_type": "code",
   "execution_count": 73,
   "metadata": {},
   "outputs": [],
   "source": [
    "roster_df = gpd.pd.read_csv(\n",
    "    os.path.join(input_dir, \"pubschls.txt\"),\n",
    "    dtype={\"CDSCode\": str},\n",
    "    delimiter=\"\\t\",\n",
    "    encoding=\"latin-1\"\n",
    ")"
   ]
  },
  {
   "cell_type": "code",
   "execution_count": 74,
   "metadata": {},
   "outputs": [
    {
     "data": {
      "text/plain": [
       "17816"
      ]
     },
     "execution_count": 74,
     "metadata": {},
     "output_type": "execute_result"
    }
   ],
   "source": [
    "len(roster_df)"
   ]
  },
  {
   "cell_type": "markdown",
   "metadata": {},
   "source": [
    "Drop non-schools"
   ]
  },
  {
   "cell_type": "code",
   "execution_count": 75,
   "metadata": {},
   "outputs": [],
   "source": [
    "schools_df = roster_df[~(roster_df.School.isnull())]"
   ]
  },
  {
   "cell_type": "code",
   "execution_count": 76,
   "metadata": {},
   "outputs": [
    {
     "data": {
      "text/plain": [
       "16442"
      ]
     },
     "execution_count": 76,
     "metadata": {},
     "output_type": "execute_result"
    }
   ],
   "source": [
    "len(schools_df)"
   ]
  },
  {
   "cell_type": "markdown",
   "metadata": {},
   "source": [
    "Filter it down to active schools"
   ]
  },
  {
   "cell_type": "code",
   "execution_count": 77,
   "metadata": {},
   "outputs": [],
   "source": [
    "active_df = schools_df[schools_df['StatusType'] == 'Active']"
   ]
  },
  {
   "cell_type": "code",
   "execution_count": 78,
   "metadata": {},
   "outputs": [
    {
     "data": {
      "text/plain": [
       "10611"
      ]
     },
     "execution_count": 78,
     "metadata": {},
     "output_type": "execute_result"
    }
   ],
   "source": [
    "len(active_df)"
   ]
  },
  {
   "cell_type": "code",
   "execution_count": 79,
   "metadata": {},
   "outputs": [],
   "source": [
    "trimmed_df = active_df[[\n",
    "    'CDSCode',\n",
    "    'School',\n",
    "    'District',\n",
    "    'StreetAbr',\n",
    "    'City',\n",
    "    'County',\n",
    "    'Zip',\n",
    "    'Charter',\n",
    "    'FundingType',\n",
    "    'Latitude',\n",
    "    'Longitude',\n",
    "    'SOCType',\n",
    "    'EILCode',\n",
    "    'GSserved',\n",
    "]]"
   ]
  },
  {
   "cell_type": "markdown",
   "metadata": {},
   "source": [
    "Split grades"
   ]
  },
  {
   "cell_type": "code",
   "execution_count": 80,
   "metadata": {},
   "outputs": [],
   "source": [
    "trimmed_df['low_grade_served'] = trimmed_df.GSserved.str.split('-').str.get(0)"
   ]
  },
  {
   "cell_type": "code",
   "execution_count": 81,
   "metadata": {},
   "outputs": [],
   "source": [
    "trimmed_df['high_grade_served'] = trimmed_df.GSserved.str.split('-').str.get(1)"
   ]
  },
  {
   "cell_type": "markdown",
   "metadata": {},
   "source": [
    "Clean up header names"
   ]
  },
  {
   "cell_type": "code",
   "execution_count": 82,
   "metadata": {},
   "outputs": [],
   "source": [
    "cleaned_df = trimmed_df.rename(columns={\n",
    "    'CDSCode': \"cds_code\",\n",
    "    'School': \"name\",\n",
    "    'District': \"district\",\n",
    "    'StreetAbr': \"street\",\n",
    "    'City': \"city\",\n",
    "    'County': \"county\",\n",
    "    'Zip': \"zipcode\",\n",
    "    'Charter': \"is_charter\",\n",
    "    'FundingType': \"funding_type\",\n",
    "    'Latitude': \"latitude\",\n",
    "    'Longitude': \"longitude\",\n",
    "    'SOCType': \"ownership\",\n",
    "    'EILCode': \"instructional_level\",\n",
    "    'GSserved': \"grades_served\",\n",
    "})"
   ]
  },
  {
   "cell_type": "markdown",
   "metadata": {},
   "source": [
    "Write it CSVs"
   ]
  },
  {
   "cell_type": "code",
   "execution_count": 92,
   "metadata": {},
   "outputs": [],
   "source": [
    "write_csv = lambda df, path: df.to_csv(os.path.join(output_dir, path), encoding=\"utf-8\", index=False)"
   ]
  },
  {
   "cell_type": "code",
   "execution_count": 93,
   "metadata": {},
   "outputs": [],
   "source": [
    "write_csv(cleaned_df, \"public_schools.csv\")"
   ]
  },
  {
   "cell_type": "code",
   "execution_count": 94,
   "metadata": {},
   "outputs": [],
   "source": [
    "write_csv(cleaned_df[cleaned_df.is_charter == 'Y'], \"charter_schools.csv\")"
   ]
  },
  {
   "cell_type": "code",
   "execution_count": 100,
   "metadata": {},
   "outputs": [],
   "source": [
    "write_csv(cleaned_df[cleaned_df.county == 'Los Angeles'], 'public_schools_in_la_county.csv')"
   ]
  },
  {
   "cell_type": "markdown",
   "metadata": {},
   "source": [
    "Write out maps"
   ]
  },
  {
   "cell_type": "code",
   "execution_count": 86,
   "metadata": {},
   "outputs": [],
   "source": [
    "def df_to_gdf(input_df, crs={'init': u'epsg:4269'}):\n",
    "    \"\"\"\n",
    "    Accepts a DataFrame with longitude and latitude columns. Returns a GeoDataFrame.\n",
    "    \"\"\"\n",
    "    df = input_df.copy()\n",
    "    geometry = [Point(xy) for xy in zip(df.longitude, df.latitude)]\n",
    "    return gpd.GeoDataFrame(df, crs=crs, geometry=geometry)"
   ]
  },
  {
   "cell_type": "code",
   "execution_count": 87,
   "metadata": {},
   "outputs": [],
   "source": [
    "cleaned_gdf = df_to_gdf(cleaned_df)"
   ]
  },
  {
   "cell_type": "code",
   "execution_count": 95,
   "metadata": {},
   "outputs": [],
   "source": [
    "write_shp = lambda df, path: df.to_file(os.path.join(output_dir, path))"
   ]
  },
  {
   "cell_type": "code",
   "execution_count": 96,
   "metadata": {},
   "outputs": [],
   "source": [
    "write_shp(cleaned_gdf, 'public_schools.shp')"
   ]
  },
  {
   "cell_type": "code",
   "execution_count": 98,
   "metadata": {},
   "outputs": [],
   "source": [
    "write_shp(cleaned_gdf[cleaned_gdf.is_charter == 'Y'], 'charter_schools.shp')"
   ]
  },
  {
   "cell_type": "code",
   "execution_count": 101,
   "metadata": {},
   "outputs": [],
   "source": [
    "write_shp(cleaned_gdf[cleaned_gdf.county == 'Los Angeles'], 'public_schools_in_la_county.shp')"
   ]
  }
 ],
 "metadata": {
  "kernelspec": {
   "display_name": "Python 3",
   "language": "python",
   "name": "python3"
  },
  "language_info": {
   "codemirror_mode": {
    "name": "ipython",
    "version": 3
   },
   "file_extension": ".py",
   "mimetype": "text/x-python",
   "name": "python",
   "nbconvert_exporter": "python",
   "pygments_lexer": "ipython3",
   "version": "3.6.4"
  }
 },
 "nbformat": 4,
 "nbformat_minor": 2
}
